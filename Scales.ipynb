{
 "cells": [
  {
   "cell_type": "code",
   "execution_count": 1,
   "id": "polished-ribbon",
   "metadata": {},
   "outputs": [],
   "source": [
    "from collections import deque\n",
    "from itertools import accumulate"
   ]
  },
  {
   "cell_type": "code",
   "execution_count": 2,
   "id": "vanilla-insert",
   "metadata": {},
   "outputs": [],
   "source": [
    "def delta_to_binary(deltas):\n",
    "    def d_to_b(d):\n",
    "        result = d * [0]\n",
    "        result[0] = 1\n",
    "        return result\n",
    "    return sum([d_to_b(x) for x in deltas], [])"
   ]
  },
  {
   "cell_type": "code",
   "execution_count": 3,
   "id": "starting-perspective",
   "metadata": {},
   "outputs": [],
   "source": [
    "def bjorklund(divisions, beats):\n",
    "    k, remainder = divmod(divisions, beats)\n",
    "    if remainder == 0:\n",
    "        return beats * [k]\n",
    "    else:\n",
    "        return [sum(x) for x in zip(beats * [k], delta_to_binary(bjorklund(beats, remainder)))]"
   ]
  },
  {
   "cell_type": "code",
   "execution_count": 4,
   "id": "secure-kinase",
   "metadata": {},
   "outputs": [],
   "source": [
    "def group_by(a, b, offset=0):\n",
    "    idx = offset\n",
    "    l = len(a)\n",
    "    result = []\n",
    "    for item in b:\n",
    "        result.append(sum(a[(i+idx)%l] for i in range(item)))\n",
    "        idx += item\n",
    "    return result"
   ]
  },
  {
   "cell_type": "code",
   "execution_count": 5,
   "id": "grave-flour",
   "metadata": {},
   "outputs": [],
   "source": [
    "class Necklace(deque):\n",
    "    def __init__(self, a):\n",
    "        super().__init__(a)\n",
    "    \n",
    "    def __eq__(self, other):\n",
    "        if not isinstance(other, type(self)):\n",
    "            return False\n",
    "        if len(self) != len(other):\n",
    "            return False\n",
    "        for _ in range(len(self)):\n",
    "            self.rotate()\n",
    "            if super().__eq__(other):\n",
    "                return True\n",
    "        return False\n",
    "    \n",
    "    def __hash__(self):\n",
    "        hash_rotations = []\n",
    "        for _ in range(len(self)):\n",
    "            self.rotate()\n",
    "            hash_rotations.append(hash(tuple(self)))\n",
    "        return hash(tuple(hash_rotations))"
   ]
  },
  {
   "cell_type": "code",
   "execution_count": 6,
   "id": "regular-serbia",
   "metadata": {},
   "outputs": [],
   "source": [
    "def steps_to_semitones(necklace):\n",
    "    return list(accumulate((x / 31) * 12 for x in necklace))"
   ]
  },
  {
   "cell_type": "code",
   "execution_count": 37,
   "id": "understood-english",
   "metadata": {},
   "outputs": [],
   "source": [
    "a = bjorklund(31, 19)\n",
    "b = bjorklund(19, 12)\n",
    "\n",
    "chromatics = []\n",
    "for i in range(19):\n",
    "    chromatics.append(Necklace(group_by(a, b, i)))"
   ]
  },
  {
   "cell_type": "code",
   "execution_count": 8,
   "id": "hungarian-switzerland",
   "metadata": {},
   "outputs": [
    {
     "name": "stdout",
     "output_type": "stream",
     "text": [
      "Necklace([3, 2, 3, 4, 1, 3, 2, 3, 2, 3, 3, 2])\n",
      "['1.161', '1.935', '3.097', '4.645', '5.032', '6.194', '6.968', '8.129', '8.903', '10.065', '11.226', '12.000']\n",
      "Necklace([4, 1, 4, 3, 2, 3, 1, 4, 1, 4, 3, 1])\n",
      "['1.548', '1.935', '3.484', '4.645', '5.419', '6.581', '6.968', '8.516', '8.903', '10.452', '11.613', '12.000']\n",
      "Necklace([3, 2, 3, 3, 2, 3, 2, 3, 2, 3, 3, 2])\n",
      "['1.161', '1.935', '3.097', '4.258', '5.032', '6.194', '6.968', '8.129', '8.903', '10.065', '11.226', '12.000']\n",
      "Necklace([3, 1, 4, 3, 2, 3, 2, 3, 1, 4, 3, 2])\n",
      "['1.161', '1.548', '3.097', '4.258', '5.032', '6.194', '6.968', '8.129', '8.516', '10.065', '11.226', '12.000']\n",
      "Necklace([3, 2, 3, 3, 2, 3, 2, 3, 1, 4, 3, 2])\n",
      "['1.161', '1.935', '3.097', '4.258', '5.032', '6.194', '6.968', '8.129', '8.516', '10.065', '11.226', '12.000']\n",
      "Necklace([4, 1, 4, 3, 1, 4, 1, 4, 1, 3, 4, 1])\n",
      "['1.548', '1.935', '3.484', '4.645', '5.032', '6.581', '6.968', '8.516', '8.903', '10.065', '11.613', '12.000']\n",
      "Necklace([3, 1, 4, 3, 2, 3, 1, 4, 1, 4, 3, 2])\n",
      "['1.161', '1.548', '3.097', '4.258', '5.032', '6.194', '6.581', '8.129', '8.516', '10.065', '11.226', '12.000']\n",
      "Necklace([4, 1, 3, 4, 1, 4, 1, 4, 1, 3, 4, 1])\n",
      "['1.548', '1.935', '3.097', '4.645', '5.032', '6.581', '6.968', '8.516', '8.903', '10.065', '11.613', '12.000']\n",
      "Necklace([4, 1, 3, 4, 1, 4, 1, 3, 2, 3, 4, 1])\n",
      "['1.548', '1.935', '3.097', '4.645', '5.032', '6.581', '6.968', '8.129', '8.903', '10.065', '11.613', '12.000']\n",
      "Necklace([3, 2, 3, 4, 1, 3, 2, 3, 2, 3, 4, 1])\n",
      "['1.161', '1.935', '3.097', '4.645', '5.032', '6.194', '6.968', '8.129', '8.903', '10.065', '11.613', '12.000']\n",
      "Necklace([3, 2, 3, 4, 1, 4, 1, 3, 2, 3, 4, 1])\n",
      "['1.161', '1.935', '3.097', '4.645', '5.032', '6.581', '6.968', '8.129', '8.903', '10.065', '11.613', '12.000']\n",
      "Necklace([4, 1, 4, 3, 1, 4, 1, 4, 1, 4, 3, 1])\n",
      "['1.548', '1.935', '3.484', '4.645', '5.032', '6.581', '6.968', '8.516', '8.903', '10.452', '11.613', '12.000']\n"
     ]
    }
   ],
   "source": [
    "unique = set(chromatics)\n",
    "for u in unique:\n",
    "    print(u)\n",
    "    print([f'{x:.3f}' for x in steps_to_semitones(u)])"
   ]
  },
  {
   "cell_type": "code",
   "execution_count": 9,
   "id": "valued-intellectual",
   "metadata": {},
   "outputs": [],
   "source": [
    "c = bjorklund(12, 7)\n",
    "\n",
    "diatonics = []\n",
    "for n in unique:\n",
    "    for i in range(12):\n",
    "        diatonics.append(Necklace(group_by(n, c, i)))"
   ]
  },
  {
   "cell_type": "code",
   "execution_count": 10,
   "id": "narrative-brick",
   "metadata": {},
   "outputs": [
    {
     "name": "stdout",
     "output_type": "stream",
     "text": [
      "Necklace([7, 1, 5, 5, 7, 1, 5])\n",
      "['2.710', '3.097', '5.032', '6.968', '9.677', '10.065', '12.000']\n",
      "Necklace([5, 4, 4, 5, 7, 1, 5])\n",
      "['1.935', '3.484', '5.032', '6.968', '9.677', '10.065', '12.000']\n",
      "Necklace([5, 1, 7, 5, 5, 3, 5])\n",
      "['1.935', '2.323', '5.032', '6.968', '8.903', '10.065', '12.000']\n",
      "Necklace([5, 2, 6, 5, 5, 4, 4])\n",
      "['1.935', '2.710', '5.032', '6.968', '8.903', '10.452', '12.000']\n",
      "Necklace([5, 3, 5, 5, 4, 4, 5])\n",
      "['1.935', '3.097', '5.032', '6.968', '8.516', '10.065', '12.000']\n",
      "Necklace([6, 2, 5, 4, 7, 2, 5])\n",
      "['2.323', '3.097', '5.032', '6.581', '9.290', '10.065', '12.000']\n",
      "Necklace([4, 2, 7, 4, 5, 2, 7])\n",
      "['1.548', '2.323', '5.032', '6.581', '8.516', '9.290', '12.000']\n",
      "Necklace([5, 2, 6, 5, 5, 3, 5])\n",
      "['1.935', '2.710', '5.032', '6.968', '8.903', '10.065', '12.000']\n",
      "Necklace([4, 4, 5, 4, 5, 4, 5])\n",
      "['1.548', '3.097', '5.032', '6.581', '8.516', '10.065', '12.000']\n",
      "Necklace([5, 2, 4, 7, 5, 2, 6])\n",
      "['1.935', '2.710', '4.258', '6.968', '8.903', '9.677', '12.000']\n",
      "Necklace([7, 1, 5, 5, 6, 2, 5])\n",
      "['2.710', '3.097', '5.032', '6.968', '9.290', '10.065', '12.000']\n",
      "Necklace([5, 1, 7, 5, 5, 1, 7])\n",
      "['1.935', '2.323', '5.032', '6.968', '8.903', '9.290', '12.000']\n",
      "Necklace([5, 4, 5, 4, 7, 2, 4])\n",
      "['1.935', '3.484', '5.419', '6.968', '9.677', '10.452', '12.000']\n",
      "Necklace([5, 2, 7, 4, 5, 4, 4])\n",
      "['1.935', '2.710', '5.419', '6.968', '8.903', '10.452', '12.000']\n",
      "Necklace([4, 4, 5, 5, 6, 2, 5])\n",
      "['1.548', '3.097', '5.032', '6.968', '9.290', '10.065', '12.000']\n",
      "Necklace([6, 2, 5, 6, 5, 2, 5])\n",
      "['2.323', '3.097', '5.032', '7.355', '9.290', '10.065', '12.000']\n",
      "Necklace([5, 2, 7, 4, 5, 2, 6])\n",
      "['1.935', '2.710', '5.419', '6.968', '8.903', '9.677', '12.000']\n",
      "Necklace([5, 1, 7, 5, 4, 2, 7])\n",
      "['1.935', '2.323', '5.032', '6.968', '8.516', '9.290', '12.000']\n",
      "Necklace([5, 4, 4, 5, 7, 2, 4])\n",
      "['1.935', '3.484', '5.032', '6.968', '9.677', '10.452', '12.000']\n",
      "Necklace([7, 1, 5, 7, 5, 1, 5])\n",
      "['2.710', '3.097', '5.032', '7.742', '9.677', '10.065', '12.000']\n",
      "Necklace([4, 2, 5, 7, 4, 2, 7])\n",
      "['1.548', '2.323', '4.258', '6.968', '8.516', '9.290', '12.000']\n",
      "Necklace([5, 1, 5, 7, 4, 2, 7])\n",
      "['1.935', '2.323', '4.258', '6.968', '8.516', '9.290', '12.000']\n",
      "Necklace([5, 4, 4, 5, 5, 3, 5])\n",
      "['1.935', '3.484', '5.032', '6.968', '8.903', '10.065', '12.000']\n",
      "Necklace([5, 3, 5, 5, 6, 2, 5])\n",
      "['1.935', '3.097', '5.032', '6.968', '9.290', '10.065', '12.000']\n",
      "Necklace([7, 2, 5, 6, 5, 2, 4])\n",
      "['2.710', '3.484', '5.419', '7.742', '9.677', '10.452', '12.000']\n",
      "Necklace([5, 4, 5, 4, 5, 4, 4])\n",
      "['1.935', '3.484', '5.419', '6.968', '8.903', '10.452', '12.000']\n",
      "Necklace([5, 2, 5, 6, 5, 2, 6])\n",
      "['1.935', '2.710', '4.645', '6.968', '8.903', '9.677', '12.000']\n",
      "Necklace([6, 2, 5, 5, 6, 2, 5])\n",
      "['2.323', '3.097', '5.032', '6.968', '9.290', '10.065', '12.000']\n",
      "Necklace([7, 2, 4, 7, 5, 2, 4])\n",
      "['2.710', '3.484', '5.032', '7.742', '9.677', '10.452', '12.000']\n",
      "Necklace([5, 2, 6, 5, 5, 1, 7])\n",
      "['1.935', '2.710', '5.032', '6.968', '8.903', '9.290', '12.000']\n",
      "Necklace([4, 2, 7, 5, 4, 4, 5])\n",
      "['1.548', '2.323', '5.032', '6.968', '8.516', '10.065', '12.000']\n",
      "Necklace([5, 2, 4, 7, 5, 1, 7])\n",
      "['1.935', '2.710', '4.258', '6.968', '8.903', '9.290', '12.000']\n",
      "Necklace([5, 2, 6, 5, 5, 2, 6])\n",
      "['1.935', '2.710', '5.032', '6.968', '8.903', '9.677', '12.000']\n",
      "Necklace([4, 2, 7, 5, 4, 2, 7])\n",
      "['1.548', '2.323', '5.032', '6.968', '8.516', '9.290', '12.000']\n",
      "Necklace([7, 2, 4, 5, 7, 1, 5])\n",
      "['2.710', '3.484', '5.032', '6.968', '9.677', '10.065', '12.000']\n",
      "Necklace([5, 1, 7, 5, 4, 4, 5])\n",
      "['1.935', '2.323', '5.032', '6.968', '8.516', '10.065', '12.000']\n",
      "Necklace([5, 3, 5, 5, 5, 3, 5])\n",
      "['1.935', '3.097', '5.032', '6.968', '8.903', '10.065', '12.000']\n",
      "Necklace([7, 2, 4, 7, 5, 1, 5])\n",
      "['2.710', '3.484', '5.032', '7.742', '9.677', '10.065', '12.000']\n",
      "Necklace([5, 4, 4, 5, 5, 4, 4])\n",
      "['1.935', '3.484', '5.032', '6.968', '8.903', '10.452', '12.000']\n",
      "Necklace([4, 4, 5, 4, 7, 2, 5])\n",
      "['1.548', '3.097', '5.032', '6.581', '9.290', '10.065', '12.000']\n",
      "Necklace([4, 2, 5, 6, 5, 2, 7])\n",
      "['1.548', '2.323', '4.258', '6.581', '8.516', '9.290', '12.000']\n",
      "Necklace([7, 2, 4, 5, 7, 2, 4])\n",
      "['2.710', '3.484', '5.032', '6.968', '9.677', '10.452', '12.000']\n",
      "Necklace([7, 2, 5, 4, 7, 2, 4])\n",
      "['2.710', '3.484', '5.419', '6.968', '9.677', '10.452', '12.000']\n",
      "Necklace([5, 1, 5, 7, 5, 1, 7])\n",
      "['1.935', '2.323', '4.258', '6.968', '8.903', '9.290', '12.000']\n",
      "Necklace([4, 2, 7, 4, 5, 4, 5])\n",
      "['1.548', '2.323', '5.032', '6.581', '8.516', '10.065', '12.000']\n",
      "Necklace([5, 3, 5, 5, 7, 1, 5])\n",
      "['1.935', '3.097', '5.032', '6.968', '9.677', '10.065', '12.000']\n",
      "Necklace([7, 1, 5, 7, 4, 2, 5])\n",
      "['2.710', '3.097', '5.032', '7.742', '9.290', '10.065', '12.000']\n",
      "Necklace([4, 4, 5, 5, 4, 4, 5])\n",
      "['1.548', '3.097', '5.032', '6.968', '8.516', '10.065', '12.000']\n",
      "Necklace([6, 2, 5, 7, 4, 2, 5])\n",
      "['2.323', '3.097', '5.032', '7.742', '9.290', '10.065', '12.000']\n"
     ]
    }
   ],
   "source": [
    "uniqued = set(diatonics)\n",
    "for u in uniqued:\n",
    "    print(u)\n",
    "    print([f'{x:.3f}' for x in steps_to_semitones(u)])"
   ]
  },
  {
   "cell_type": "code",
   "execution_count": 39,
   "id": "younger-gateway",
   "metadata": {},
   "outputs": [],
   "source": [
    "a = bjorklund(31, 19)\n",
    "b = bjorklund(19, 12)\n",
    "c = bjorklund(12, 7)\n",
    "s1 = Necklace(group_by(a, b))\n",
    "s2 = Necklace(group_by(s1, c))"
   ]
  },
  {
   "cell_type": "code",
   "execution_count": 40,
   "id": "theoretical-chancellor",
   "metadata": {},
   "outputs": [
    {
     "name": "stdout",
     "output_type": "stream",
     "text": [
      "Necklace([3, 2, 3, 3, 2, 3, 2, 3, 2, 3, 3, 2])\n",
      "Necklace([5, 3, 5, 5, 5, 3, 5])\n"
     ]
    }
   ],
   "source": [
    "print(s1)\n",
    "print(s2)"
   ]
  },
  {
   "cell_type": "code",
   "execution_count": 41,
   "id": "norwegian-bangladesh",
   "metadata": {},
   "outputs": [
    {
     "data": {
      "text/plain": [
       "[3, 2, 3, 3, 2, 3, 2, 3, 2, 3, 3, 2]"
      ]
     },
     "execution_count": 41,
     "metadata": {},
     "output_type": "execute_result"
    }
   ],
   "source": [
    "bjorklund(31, 12)"
   ]
  },
  {
   "cell_type": "markdown",
   "id": "through-parish",
   "metadata": {},
   "source": [
    "## Rhythm"
   ]
  },
  {
   "cell_type": "code",
   "execution_count": 30,
   "id": "virgin-express",
   "metadata": {},
   "outputs": [],
   "source": [
    "a = bjorklund(8, 5)\n",
    "b = bjorklund(5, 3)\n",
    "\n",
    "chromatics = []\n",
    "for i in range(8):\n",
    "    chromatics.append(Necklace(group_by(a, b, i)))"
   ]
  },
  {
   "cell_type": "code",
   "execution_count": 34,
   "id": "swedish-china",
   "metadata": {},
   "outputs": [
    {
     "name": "stdout",
     "output_type": "stream",
     "text": [
      "Necklace([3, 2, 3])\n",
      "Necklace([3, 1, 4])\n",
      "Necklace([4, 1, 3])\n"
     ]
    }
   ],
   "source": [
    "unique = set(chromatics)\n",
    "for u in unique:\n",
    "    print(u)"
   ]
  },
  {
   "cell_type": "code",
   "execution_count": 36,
   "id": "illegal-technology",
   "metadata": {},
   "outputs": [
    {
     "name": "stdout",
     "output_type": "stream",
     "text": [
      "Necklace([2, 1, 2, 2, 1])\n",
      "Necklace([3, 2, 3])\n",
      "Necklace([3, 2, 3])\n",
      "Necklace([4, 1, 3])\n",
      "Necklace([3, 2, 3])\n",
      "Necklace([3, 1, 4])\n",
      "Necklace([3, 2, 3])\n",
      "Necklace([3, 2, 3])\n",
      "Necklace([4, 1, 3])\n"
     ]
    }
   ],
   "source": [
    "print(Necklace(a))\n",
    "for chro in chromatics:\n",
    "    print(chro)"
   ]
  },
  {
   "cell_type": "code",
   "execution_count": 28,
   "id": "corporate-tolerance",
   "metadata": {},
   "outputs": [],
   "source": [
    "c = bjorklund(6, 4)\n",
    "\n",
    "diatonics = []\n",
    "for n in unique:\n",
    "    for i in range(6):\n",
    "        diatonics.append(Necklace(group_by(n, c, i)))"
   ]
  },
  {
   "cell_type": "code",
   "execution_count": 29,
   "id": "oriental-poker",
   "metadata": {},
   "outputs": [
    {
     "name": "stdout",
     "output_type": "stream",
     "text": [
      "Necklace([5, 3, 5, 3])\n",
      "Necklace([6, 2, 6, 2])\n",
      "Necklace([7, 1, 7, 1])\n",
      "Necklace([4, 4, 4, 4])\n"
     ]
    }
   ],
   "source": [
    "uniqued = set(diatonics)\n",
    "for u in uniqued:\n",
    "    print(u)"
   ]
  },
  {
   "cell_type": "code",
   "execution_count": null,
   "id": "weighted-bulgarian",
   "metadata": {},
   "outputs": [],
   "source": []
  }
 ],
 "metadata": {
  "kernelspec": {
   "display_name": "Python 3",
   "language": "python",
   "name": "python3"
  },
  "language_info": {
   "codemirror_mode": {
    "name": "ipython",
    "version": 3
   },
   "file_extension": ".py",
   "mimetype": "text/x-python",
   "name": "python",
   "nbconvert_exporter": "python",
   "pygments_lexer": "ipython3",
   "version": "3.8.5"
  }
 },
 "nbformat": 4,
 "nbformat_minor": 5
}
