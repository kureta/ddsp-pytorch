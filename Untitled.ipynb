{
 "cells": [
  {
   "cell_type": "code",
   "execution_count": 1,
   "id": "painted-adaptation",
   "metadata": {},
   "outputs": [
    {
     "name": "stderr",
     "output_type": "stream",
     "text": [
      "/home/kureta/.conda/envs/ddsp-pytorch/lib/python3.8/site-packages/torchaudio/backend/utils.py:53: UserWarning: \"sox\" backend is being deprecated. The default backend will be changed to \"sox_io\" backend in 0.8.0 and \"sox\" backend will be removed in 0.9.0. Please migrate to \"sox_io\" backend. Please refer to https://github.com/pytorch/audio/issues/903 for the detail.\n",
      "  warnings.warn(\n"
     ]
    }
   ],
   "source": [
    "from dataset.audio_dataset import LabeledAudioData"
   ]
  },
  {
   "cell_type": "code",
   "execution_count": 2,
   "id": "earlier-canadian",
   "metadata": {},
   "outputs": [],
   "source": [
    "import numpy as np\n",
    "import pandas as pd\n",
    "import altair as alt"
   ]
  },
  {
   "cell_type": "code",
   "execution_count": 3,
   "id": "utility-banks",
   "metadata": {},
   "outputs": [
    {
     "name": "stdout",
     "output_type": "stream",
     "text": [
      "Loading presaved dataset...\n",
      "Loading presaved dataset...\n"
     ]
    }
   ],
   "source": [
    "a = LabeledAudioData('/home/kureta/Music/violin')"
   ]
  },
  {
   "cell_type": "code",
   "execution_count": 4,
   "id": "stunning-arrest",
   "metadata": {},
   "outputs": [],
   "source": [
    "source = pd.DataFrame({\n",
    "    'x': np.arange(24),\n",
    "    'y': a.loudness.numpy()[0]\n",
    "})"
   ]
  },
  {
   "cell_type": "code",
   "execution_count": 5,
   "id": "surprised-analysis",
   "metadata": {},
   "outputs": [
    {
     "data": {
      "text/html": [
       "\n",
       "<div id=\"altair-viz-3679b6bfc7a84da5b0d14e66dcd1af36\"></div>\n",
       "<script type=\"text/javascript\">\n",
       "  (function(spec, embedOpt){\n",
       "    let outputDiv = document.currentScript.previousElementSibling;\n",
       "    if (outputDiv.id !== \"altair-viz-3679b6bfc7a84da5b0d14e66dcd1af36\") {\n",
       "      outputDiv = document.getElementById(\"altair-viz-3679b6bfc7a84da5b0d14e66dcd1af36\");\n",
       "    }\n",
       "    const paths = {\n",
       "      \"vega\": \"https://cdn.jsdelivr.net/npm//vega@5?noext\",\n",
       "      \"vega-lib\": \"https://cdn.jsdelivr.net/npm//vega-lib?noext\",\n",
       "      \"vega-lite\": \"https://cdn.jsdelivr.net/npm//vega-lite@4.8.1?noext\",\n",
       "      \"vega-embed\": \"https://cdn.jsdelivr.net/npm//vega-embed@6?noext\",\n",
       "    };\n",
       "\n",
       "    function loadScript(lib) {\n",
       "      return new Promise(function(resolve, reject) {\n",
       "        var s = document.createElement('script');\n",
       "        s.src = paths[lib];\n",
       "        s.async = true;\n",
       "        s.onload = () => resolve(paths[lib]);\n",
       "        s.onerror = () => reject(`Error loading script: ${paths[lib]}`);\n",
       "        document.getElementsByTagName(\"head\")[0].appendChild(s);\n",
       "      });\n",
       "    }\n",
       "\n",
       "    function showError(err) {\n",
       "      outputDiv.innerHTML = `<div class=\"error\" style=\"color:red;\">${err}</div>`;\n",
       "      throw err;\n",
       "    }\n",
       "\n",
       "    function displayChart(vegaEmbed) {\n",
       "      vegaEmbed(outputDiv, spec, embedOpt)\n",
       "        .catch(err => showError(`Javascript Error: ${err.message}<br>This usually means there's a typo in your chart specification. See the javascript console for the full traceback.`));\n",
       "    }\n",
       "\n",
       "    if(typeof define === \"function\" && define.amd) {\n",
       "      requirejs.config({paths});\n",
       "      require([\"vega-embed\"], displayChart, err => showError(`Error loading script: ${err.message}`));\n",
       "    } else if (typeof vegaEmbed === \"function\") {\n",
       "      displayChart(vegaEmbed);\n",
       "    } else {\n",
       "      loadScript(\"vega\")\n",
       "        .then(() => loadScript(\"vega-lite\"))\n",
       "        .then(() => loadScript(\"vega-embed\"))\n",
       "        .catch(showError)\n",
       "        .then(() => displayChart(vegaEmbed));\n",
       "    }\n",
       "  })({\"config\": {\"view\": {\"continuousWidth\": 400, \"continuousHeight\": 300}}, \"data\": {\"name\": \"data-0205c53dd33899fc3ef3c9901199c3b0\"}, \"mark\": \"line\", \"encoding\": {\"x\": {\"type\": \"quantitative\", \"field\": \"x\"}, \"y\": {\"type\": \"quantitative\", \"field\": \"y\"}}, \"$schema\": \"https://vega.github.io/schema/vega-lite/v4.8.1.json\", \"datasets\": {\"data-0205c53dd33899fc3ef3c9901199c3b0\": [{\"x\": 0, \"y\": 0.00045810730080120265}, {\"x\": 1, \"y\": 0.000575494603253901}, {\"x\": 2, \"y\": 0.000620705250184983}, {\"x\": 3, \"y\": 0.0005278279422782362}, {\"x\": 4, \"y\": 0.0007015179726295173}, {\"x\": 5, \"y\": 0.0007252644863910973}, {\"x\": 6, \"y\": 0.0006177139584906399}, {\"x\": 7, \"y\": 0.0006277965730987489}, {\"x\": 8, \"y\": 0.0005801386432722211}, {\"x\": 9, \"y\": 0.0005904289428144693}, {\"x\": 10, \"y\": 0.0005363557720556855}, {\"x\": 11, \"y\": 0.0005997781991027296}, {\"x\": 12, \"y\": 0.013118676841259003}, {\"x\": 13, \"y\": 0.028595896437764168}, {\"x\": 14, \"y\": 0.0471893735229969}, {\"x\": 15, \"y\": 0.05085919052362442}, {\"x\": 16, \"y\": 0.041896410286426544}, {\"x\": 17, \"y\": 0.048276305198669434}, {\"x\": 18, \"y\": 0.04054137319326401}, {\"x\": 19, \"y\": 0.029790453612804413}, {\"x\": 20, \"y\": 0.019228816032409668}, {\"x\": 21, \"y\": 0.034788552671670914}, {\"x\": 22, \"y\": 0.056062616407871246}, {\"x\": 23, \"y\": 0.058122169226408005}]}}, {\"mode\": \"vega-lite\"});\n",
       "</script>"
      ],
      "text/plain": [
       "alt.Chart(...)"
      ]
     },
     "execution_count": 5,
     "metadata": {},
     "output_type": "execute_result"
    }
   ],
   "source": [
    "alt.Chart(source).mark_line().encode(\n",
    "    x='x',\n",
    "    y='y'\n",
    ")"
   ]
  },
  {
   "cell_type": "code",
   "execution_count": 6,
   "id": "hazardous-shoulder",
   "metadata": {},
   "outputs": [],
   "source": [
    "x = a[0:10]"
   ]
  },
  {
   "cell_type": "code",
   "execution_count": 7,
   "id": "present-plate",
   "metadata": {},
   "outputs": [
    {
     "data": {
      "text/plain": [
       "torch.Size([10, 24, 2048])"
      ]
     },
     "execution_count": 7,
     "metadata": {},
     "output_type": "execute_result"
    }
   ],
   "source": [
    "x['audio'].shape"
   ]
  },
  {
   "cell_type": "code",
   "execution_count": null,
   "id": "further-mission",
   "metadata": {},
   "outputs": [],
   "source": []
  }
 ],
 "metadata": {
  "kernelspec": {
   "display_name": "Python 3",
   "language": "python",
   "name": "python3"
  },
  "language_info": {
   "codemirror_mode": {
    "name": "ipython",
    "version": 3
   },
   "file_extension": ".py",
   "mimetype": "text/x-python",
   "name": "python",
   "nbconvert_exporter": "python",
   "pygments_lexer": "ipython3",
   "version": "3.8.5"
  }
 },
 "nbformat": 4,
 "nbformat_minor": 5
}
