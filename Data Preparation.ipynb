{
 "cells": [
  {
   "cell_type": "code",
   "execution_count": null,
   "id": "painted-adaptation",
   "metadata": {},
   "outputs": [],
   "source": [
    "from dataset.audio_dataset import LabeledAudioData"
   ]
  },
  {
   "cell_type": "code",
   "execution_count": null,
   "id": "earlier-canadian",
   "metadata": {},
   "outputs": [],
   "source": [
    "import numpy as np\n",
    "import pandas as pd\n",
    "import altair as alt"
   ]
  },
  {
   "cell_type": "code",
   "execution_count": null,
   "id": "utility-banks",
   "metadata": {},
   "outputs": [],
   "source": [
    "a = LabeledAudioData('/home/kureta/Music/violin')"
   ]
  },
  {
   "cell_type": "code",
   "execution_count": null,
   "id": "stunning-arrest",
   "metadata": {},
   "outputs": [],
   "source": [
    "source = pd.DataFrame({\n",
    "    'x': np.arange(24),\n",
    "    'y': a.loudness.numpy()[0]\n",
    "})"
   ]
  },
  {
   "cell_type": "code",
   "execution_count": null,
   "id": "surprised-analysis",
   "metadata": {},
   "outputs": [],
   "source": [
    "alt.Chart(source).mark_line().encode(\n",
    "    x='x',\n",
    "    y='y'\n",
    ")"
   ]
  },
  {
   "cell_type": "code",
   "execution_count": null,
   "id": "hazardous-shoulder",
   "metadata": {},
   "outputs": [],
   "source": [
    "x = a[0:10]"
   ]
  },
  {
   "cell_type": "code",
   "execution_count": null,
   "id": "present-plate",
   "metadata": {},
   "outputs": [],
   "source": [
    "x['audio'].shape"
   ]
  },
  {
   "cell_type": "code",
   "execution_count": 1,
   "id": "solid-greeting",
   "metadata": {},
   "outputs": [],
   "source": [
    "%matplotlib inline\n",
    "import matplotlib.pyplot as plt\n",
    "import numpy as np\n",
    "import librosa\n",
    "import librosa.display\n",
    "import IPython.display as ipd\n",
    "plt.rcParams['figure.figsize'] = [17, 8]"
   ]
  },
  {
   "cell_type": "code",
   "execution_count": 2,
   "id": "further-mission",
   "metadata": {},
   "outputs": [
    {
     "name": "stderr",
     "output_type": "stream",
     "text": [
      "/home/kureta/.conda/envs/ddsp-pytorch/lib/python3.8/site-packages/torchaudio/backend/utils.py:53: UserWarning: \"sox\" backend is being deprecated. The default backend will be changed to \"sox_io\" backend in 0.8.0 and \"sox\" backend will be removed in 0.9.0. Please migrate to \"sox_io\" backend. Please refer to https://github.com/pytorch/audio/issues/903 for the detail.\n",
      "  warnings.warn(\n"
     ]
    }
   ],
   "source": [
    "from model.recon import AudioData"
   ]
  },
  {
   "cell_type": "code",
   "execution_count": 3,
   "id": "amazing-charlotte",
   "metadata": {},
   "outputs": [
    {
     "name": "stdout",
     "output_type": "stream",
     "text": [
      "Loading presaved dataset...\n"
     ]
    }
   ],
   "source": [
    "dataset = AudioData('/home/kureta/Music/violin/')"
   ]
  },
  {
   "cell_type": "code",
   "execution_count": 4,
   "id": "later-alloy",
   "metadata": {},
   "outputs": [],
   "source": [
    "mag, audio = dataset[0]"
   ]
  },
  {
   "cell_type": "code",
   "execution_count": null,
   "id": "continuing-serial",
   "metadata": {},
   "outputs": [],
   "source": [
    "librosa.display.waveplot(audio.numpy())"
   ]
  },
  {
   "cell_type": "code",
   "execution_count": null,
   "id": "reserved-refrigerator",
   "metadata": {},
   "outputs": [],
   "source": [
    "librosa.display.specshow(mag.numpy().T)"
   ]
  },
  {
   "cell_type": "code",
   "execution_count": null,
   "id": "coated-atlas",
   "metadata": {},
   "outputs": [],
   "source": [
    "len(dataset)"
   ]
  },
  {
   "cell_type": "code",
   "execution_count": 8,
   "id": "intended-lover",
   "metadata": {},
   "outputs": [
    {
     "data": {
      "text/plain": [
       "torch.float32"
      ]
     },
     "execution_count": 8,
     "metadata": {},
     "output_type": "execute_result"
    }
   ],
   "source": [
    "audio.dtype"
   ]
  },
  {
   "cell_type": "code",
   "execution_count": 2,
   "id": "certain-columbus",
   "metadata": {},
   "outputs": [],
   "source": [
    "x = np.random.randn(250)"
   ]
  },
  {
   "cell_type": "code",
   "execution_count": 3,
   "id": "matched-bloom",
   "metadata": {},
   "outputs": [],
   "source": [
    "y = np.fft.fft(x)"
   ]
  },
  {
   "cell_type": "code",
   "execution_count": 10,
   "id": "southwest-pacific",
   "metadata": {},
   "outputs": [],
   "source": [
    "x_hat = np.fft.fft(y.conj()) / len(x)"
   ]
  },
  {
   "cell_type": "code",
   "execution_count": 13,
   "id": "charitable-express",
   "metadata": {},
   "outputs": [
    {
     "data": {
      "text/plain": [
       "(-0.737085197491792, (-0.737085197491792-1.4578458566500044e-16j))"
      ]
     },
     "execution_count": 13,
     "metadata": {},
     "output_type": "execute_result"
    }
   ],
   "source": [
    "x[10], x_hat[10]"
   ]
  },
  {
   "cell_type": "code",
   "execution_count": 8,
   "id": "strange-article",
   "metadata": {},
   "outputs": [
    {
     "data": {
      "text/plain": [
       "(250,)"
      ]
     },
     "execution_count": 8,
     "metadata": {},
     "output_type": "execute_result"
    }
   ],
   "source": [
    "x.shape"
   ]
  },
  {
   "cell_type": "code",
   "execution_count": 9,
   "id": "collectible-guyana",
   "metadata": {},
   "outputs": [
    {
     "data": {
      "text/plain": [
       "(250,)"
      ]
     },
     "execution_count": 9,
     "metadata": {},
     "output_type": "execute_result"
    }
   ],
   "source": [
    "y.shape"
   ]
  },
  {
   "cell_type": "code",
   "execution_count": null,
   "id": "positive-judge",
   "metadata": {},
   "outputs": [],
   "source": []
  }
 ],
 "metadata": {
  "kernelspec": {
   "display_name": "Python 3",
   "language": "python",
   "name": "python3"
  },
  "language_info": {
   "codemirror_mode": {
    "name": "ipython",
    "version": 3
   },
   "file_extension": ".py",
   "mimetype": "text/x-python",
   "name": "python",
   "nbconvert_exporter": "python",
   "pygments_lexer": "ipython3",
   "version": "3.8.5"
  }
 },
 "nbformat": 4,
 "nbformat_minor": 5
}
