{
 "cells": [
  {
   "cell_type": "code",
   "execution_count": null,
   "id": "solid-greeting",
   "metadata": {},
   "outputs": [],
   "source": [
    "%matplotlib inline\n",
    "import matplotlib.pyplot as plt\n",
    "import numpy as np\n",
    "import librosa\n",
    "import librosa.display\n",
    "import IPython.display as ipd\n",
    "plt.rcParams['figure.figsize'] = [17, 8]"
   ]
  },
  {
   "cell_type": "code",
   "execution_count": null,
   "id": "inappropriate-entity",
   "metadata": {},
   "outputs": [],
   "source": [
    "import torch\n",
    "from torch.utils.data import DataLoader"
   ]
  },
  {
   "cell_type": "code",
   "execution_count": null,
   "id": "painted-adaptation",
   "metadata": {},
   "outputs": [],
   "source": [
    "from dataset.audio_dataset import AudioData, default\n",
    "from model.autoencoder.encoder import Encoder\n",
    "from model.autoencoder.decoder import Decoder\n",
    "from model.ddsp.harmonic_oscillator import OscillatorBank\n",
    "from train.train import AutoEncoder\n",
    "from config.default import Config"
   ]
  },
  {
   "cell_type": "code",
   "execution_count": null,
   "id": "sharing-vatican",
   "metadata": {},
   "outputs": [],
   "source": [
    "default = Config()"
   ]
  },
  {
   "cell_type": "code",
   "execution_count": null,
   "id": "amazing-charlotte",
   "metadata": {},
   "outputs": [],
   "source": [
    "dataset = AudioData(clear=False)"
   ]
  },
  {
   "cell_type": "code",
   "execution_count": null,
   "id": "later-alloy",
   "metadata": {},
   "outputs": [],
   "source": [
    "audio = dataset[0]\n",
    "audio.shape"
   ]
  },
  {
   "cell_type": "code",
   "execution_count": null,
   "id": "theoretical-classroom",
   "metadata": {},
   "outputs": [],
   "source": [
    "loader = DataLoader(dataset, 10, shuffle=True)"
   ]
  },
  {
   "cell_type": "code",
   "execution_count": null,
   "id": "passive-portland",
   "metadata": {},
   "outputs": [],
   "source": [
    "for batch in loader:\n",
    "    print(batch.shape)\n",
    "    break"
   ]
  },
  {
   "cell_type": "code",
   "execution_count": null,
   "id": "cathedral-package",
   "metadata": {},
   "outputs": [],
   "source": [
    "batch = batch.cuda()"
   ]
  },
  {
   "cell_type": "code",
   "execution_count": null,
   "id": "continuing-serial",
   "metadata": {},
   "outputs": [],
   "source": [
    "librosa.display.waveplot(batch[0].cpu().numpy(), sr=default.sample_rate)"
   ]
  },
  {
   "cell_type": "code",
   "execution_count": null,
   "id": "vietnamese-coffee",
   "metadata": {},
   "outputs": [],
   "source": [
    "ipd.Audio(data=batch[0].cpu().numpy(), rate=default.sample_rate)"
   ]
  },
  {
   "cell_type": "code",
   "execution_count": null,
   "id": "scheduled-carnival",
   "metadata": {},
   "outputs": [],
   "source": [
    "encoder = Encoder().cuda()"
   ]
  },
  {
   "cell_type": "code",
   "execution_count": null,
   "id": "capital-choir",
   "metadata": {},
   "outputs": [],
   "source": [
    "z = encoder(batch)"
   ]
  },
  {
   "cell_type": "code",
   "execution_count": null,
   "id": "affected-christmas",
   "metadata": {},
   "outputs": [],
   "source": [
    "plt.plot(z['scaled_bins'][0].cpu().numpy())\n",
    "plt.plot(z['harmonicity'][0].cpu().numpy())\n",
    "plt.plot(z['loudness'][0].cpu().numpy())"
   ]
  },
  {
   "cell_type": "code",
   "execution_count": null,
   "id": "wired-stroke",
   "metadata": {
    "scrolled": true
   },
   "outputs": [],
   "source": [
    "librosa.display.specshow(z['probabilities'][0].cpu().numpy().T, sr=default.sample_rate, hop_length=default.hop_length)"
   ]
  },
  {
   "cell_type": "code",
   "execution_count": null,
   "id": "worst-dancing",
   "metadata": {},
   "outputs": [],
   "source": [
    "ae = AutoEncoder().cuda()"
   ]
  },
  {
   "cell_type": "code",
   "execution_count": null,
   "id": "empirical-technical",
   "metadata": {},
   "outputs": [],
   "source": [
    "with torch.no_grad():\n",
    "    result = ae(batch.cuda())"
   ]
  },
  {
   "cell_type": "code",
   "execution_count": null,
   "id": "packed-house",
   "metadata": {},
   "outputs": [],
   "source": [
    "decoder = Decoder().cuda()"
   ]
  },
  {
   "cell_type": "code",
   "execution_count": null,
   "id": "moved-nature",
   "metadata": {},
   "outputs": [],
   "source": [
    "with torch.no_grad():\n",
    "    result = decoder(z)"
   ]
  },
  {
   "cell_type": "code",
   "execution_count": null,
   "id": "restricted-cambodia",
   "metadata": {},
   "outputs": [],
   "source": [
    "result['c'].shape"
   ]
  },
  {
   "cell_type": "code",
   "execution_count": null,
   "id": "driving-preference",
   "metadata": {},
   "outputs": [],
   "source": [
    "z['f0'].shape"
   ]
  },
  {
   "cell_type": "code",
   "execution_count": null,
   "id": "horizontal-concrete",
   "metadata": {},
   "outputs": [],
   "source": [
    "batch.shape"
   ]
  },
  {
   "cell_type": "code",
   "execution_count": null,
   "id": "suitable-explanation",
   "metadata": {},
   "outputs": [],
   "source": [
    "with torch.no_grad():\n",
    "    z = encoder(result)"
   ]
  },
  {
   "cell_type": "code",
   "execution_count": null,
   "id": "given-capture",
   "metadata": {},
   "outputs": [],
   "source": [
    "plt.plot(z['f0'][0].cpu().numpy())\n",
    "plt.plot(z['harmonicity'][0].cpu().numpy())\n",
    "plt.plot(z['loudness'][0].cpu().numpy())"
   ]
  },
  {
   "cell_type": "code",
   "execution_count": null,
   "id": "younger-swiss",
   "metadata": {},
   "outputs": [],
   "source": [
    "ipd.Audio(data=result[0].cpu().numpy(), rate=default.sample_rate)"
   ]
  },
  {
   "cell_type": "code",
   "execution_count": null,
   "id": "tracked-acrobat",
   "metadata": {},
   "outputs": [],
   "source": []
  }
 ],
 "metadata": {
  "kernelspec": {
   "display_name": "Python 3",
   "language": "python",
   "name": "python3"
  },
  "language_info": {
   "codemirror_mode": {
    "name": "ipython",
    "version": 3
   },
   "file_extension": ".py",
   "mimetype": "text/x-python",
   "name": "python",
   "nbconvert_exporter": "python",
   "pygments_lexer": "ipython3",
   "version": "3.8.5"
  }
 },
 "nbformat": 4,
 "nbformat_minor": 5
}
