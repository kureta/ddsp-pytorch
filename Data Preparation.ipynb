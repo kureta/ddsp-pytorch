{
 "cells": [
  {
   "cell_type": "code",
   "execution_count": 1,
   "id": "solid-greeting",
   "metadata": {},
   "outputs": [],
   "source": [
    "%matplotlib inline\n",
    "import matplotlib.pyplot as plt\n",
    "import numpy as np\n",
    "import librosa\n",
    "import librosa.display\n",
    "import IPython.display as ipd\n",
    "plt.rcParams['figure.figsize'] = [17, 8]"
   ]
  },
  {
   "cell_type": "code",
   "execution_count": 2,
   "id": "inappropriate-entity",
   "metadata": {},
   "outputs": [],
   "source": [
    "import torch\n",
    "from torch.utils.data import DataLoader"
   ]
  },
  {
   "cell_type": "code",
   "execution_count": 3,
   "id": "painted-adaptation",
   "metadata": {},
   "outputs": [],
   "source": [
    "from dataset.audio_dataset import AudioData, default\n",
    "from model.autoencoder.encoder import Encoder\n",
    "from model.autoencoder.decoder import Decoder\n",
    "from model.ddsp.harmonic_oscillator import OscillatorBank\n",
    "from train.train import AutoEncoder\n",
    "from config.default import Config"
   ]
  },
  {
   "cell_type": "code",
   "execution_count": 4,
   "id": "sharing-vatican",
   "metadata": {},
   "outputs": [],
   "source": [
    "default = Config()"
   ]
  },
  {
   "cell_type": "code",
   "execution_count": 5,
   "id": "amazing-charlotte",
   "metadata": {},
   "outputs": [
    {
     "name": "stdout",
     "output_type": "stream",
     "text": [
      "Loading presaved dataset...\n"
     ]
    }
   ],
   "source": [
    "dataset = AudioData(clear=False)"
   ]
  },
  {
   "cell_type": "code",
   "execution_count": 6,
   "id": "later-alloy",
   "metadata": {},
   "outputs": [
    {
     "data": {
      "text/plain": [
       "torch.Size([88064])"
      ]
     },
     "execution_count": 6,
     "metadata": {},
     "output_type": "execute_result"
    }
   ],
   "source": [
    "audio = dataset[0]\n",
    "audio.shape"
   ]
  },
  {
   "cell_type": "code",
   "execution_count": 7,
   "id": "theoretical-classroom",
   "metadata": {},
   "outputs": [],
   "source": [
    "loader = DataLoader(dataset, 10, shuffle=True)"
   ]
  },
  {
   "cell_type": "code",
   "execution_count": 8,
   "id": "passive-portland",
   "metadata": {},
   "outputs": [
    {
     "name": "stdout",
     "output_type": "stream",
     "text": [
      "torch.Size([10, 88064])\n"
     ]
    }
   ],
   "source": [
    "for batch in loader:\n",
    "    print(batch.shape)\n",
    "    break"
   ]
  },
  {
   "cell_type": "code",
   "execution_count": 9,
   "id": "cathedral-package",
   "metadata": {},
   "outputs": [],
   "source": [
    "batch = batch"
   ]
  },
  {
   "cell_type": "code",
   "execution_count": null,
   "id": "continuing-serial",
   "metadata": {},
   "outputs": [],
   "source": [
    "librosa.display.waveplot(batch[0].cpu().numpy(), sr=default.sample_rate)"
   ]
  },
  {
   "cell_type": "code",
   "execution_count": null,
   "id": "vietnamese-coffee",
   "metadata": {},
   "outputs": [],
   "source": [
    "ipd.Audio(data=batch[0].cpu().numpy(), rate=default.sample_rate)"
   ]
  },
  {
   "cell_type": "code",
   "execution_count": null,
   "id": "scheduled-carnival",
   "metadata": {},
   "outputs": [],
   "source": [
    "encoder = Encoder()"
   ]
  },
  {
   "cell_type": "code",
   "execution_count": null,
   "id": "capital-choir",
   "metadata": {},
   "outputs": [],
   "source": [
    "z = encoder(batch)"
   ]
  },
  {
   "cell_type": "code",
   "execution_count": null,
   "id": "bizarre-lighting",
   "metadata": {},
   "outputs": [],
   "source": [
    "z['probabilities'].shape"
   ]
  },
  {
   "cell_type": "code",
   "execution_count": null,
   "id": "affected-christmas",
   "metadata": {},
   "outputs": [],
   "source": [
    "plt.plot(z['normalized_cents'][0].cpu().numpy())\n",
    "plt.plot(z['harmonicity'][0].cpu().numpy())\n",
    "plt.plot(z['loudness'][0].cpu().numpy())"
   ]
  },
  {
   "cell_type": "code",
   "execution_count": null,
   "id": "thermal-korea",
   "metadata": {
    "scrolled": false
   },
   "outputs": [],
   "source": [
    "librosa.display.specshow(z['probabilities'][0].cpu().numpy().T, sr=default.sample_rate, hop_length=default.hop_length)"
   ]
  },
  {
   "cell_type": "code",
   "execution_count": null,
   "id": "worst-dancing",
   "metadata": {},
   "outputs": [],
   "source": [
    "ae = AutoEncoder()"
   ]
  },
  {
   "cell_type": "code",
   "execution_count": null,
   "id": "empirical-technical",
   "metadata": {},
   "outputs": [],
   "source": [
    "with torch.no_grad():\n",
    "    result_hat = ae(batch)"
   ]
  },
  {
   "cell_type": "code",
   "execution_count": null,
   "id": "spread-dakota",
   "metadata": {},
   "outputs": [],
   "source": [
    "decoder = Decoder()"
   ]
  },
  {
   "cell_type": "code",
   "execution_count": null,
   "id": "wrapped-preference",
   "metadata": {},
   "outputs": [],
   "source": [
    "with torch.no_grad():\n",
    "    z_hat = decoder(z)"
   ]
  },
  {
   "cell_type": "code",
   "execution_count": null,
   "id": "suitable-explanation",
   "metadata": {},
   "outputs": [],
   "source": [
    "with torch.no_grad():\n",
    "    z = encoder(result_hat)"
   ]
  },
  {
   "cell_type": "code",
   "execution_count": null,
   "id": "given-capture",
   "metadata": {},
   "outputs": [],
   "source": [
    "plt.plot(z['normalized_cents'][0].cpu().numpy())\n",
    "plt.plot(z['harmonicity'][0].cpu().numpy())\n",
    "plt.plot(z['loudness'][0].cpu().numpy())"
   ]
  },
  {
   "cell_type": "code",
   "execution_count": null,
   "id": "younger-swiss",
   "metadata": {},
   "outputs": [],
   "source": [
    "ipd.Audio(data=result_hat[0].cpu().numpy(), rate=default.sample_rate)"
   ]
  },
  {
   "cell_type": "code",
   "execution_count": null,
   "id": "mature-representative",
   "metadata": {},
   "outputs": [],
   "source": [
    "from crepe.hidden_markov_model import HiddenMarkovModel"
   ]
  },
  {
   "cell_type": "code",
   "execution_count": null,
   "id": "geographic-replication",
   "metadata": {},
   "outputs": [],
   "source": [
    "# uniform prior on the starting pitch\n",
    "starting = torch.ones(360) / 360\n",
    "\n",
    "# transition probabilities inducing continuous pitch\n",
    "xx, yy = torch.meshgrid(torch.arange(360), torch.arange(360))\n",
    "transition = torch.maximum(12 - abs(xx - yy), torch.zeros_like(xx))\n",
    "transition = transition / torch.sum(transition, dim=1, keepdims=True)\n",
    "\n",
    "# emission probability = fixed probability for self, evenly distribute the\n",
    "# others\n",
    "self_emission = 0.1\n",
    "emission = (torch.eye(360) * self_emission + torch.ones((360, 360)) *\n",
    "            ((1 - self_emission) / 360))"
   ]
  },
  {
   "cell_type": "code",
   "execution_count": null,
   "id": "fluid-texas",
   "metadata": {},
   "outputs": [],
   "source": [
    "model = HiddenMarkovModel(transition, emission, starting)"
   ]
  },
  {
   "cell_type": "code",
   "execution_count": null,
   "id": "pressed-means",
   "metadata": {},
   "outputs": [],
   "source": [
    "states_seq, state_prob = model.viterbi_inference(z['probabilities'][0].argmax(dim=-1))"
   ]
  },
  {
   "cell_type": "code",
   "execution_count": null,
   "id": "outside-regular",
   "metadata": {},
   "outputs": [],
   "source": [
    "plt.plot(z['normalized_cents'][0].cpu().numpy())\n",
    "plt.plot(states_seq.cpu().numpy() / 359)"
   ]
  },
  {
   "cell_type": "code",
   "execution_count": null,
   "id": "comfortable-export",
   "metadata": {},
   "outputs": [],
   "source": [
    "states_seq.shape"
   ]
  },
  {
   "cell_type": "code",
   "execution_count": null,
   "id": "electoral-naples",
   "metadata": {},
   "outputs": [],
   "source": []
  }
 ],
 "metadata": {
  "kernelspec": {
   "display_name": "Python 3",
   "language": "python",
   "name": "python3"
  },
  "language_info": {
   "codemirror_mode": {
    "name": "ipython",
    "version": 3
   },
   "file_extension": ".py",
   "mimetype": "text/x-python",
   "name": "python",
   "nbconvert_exporter": "python",
   "pygments_lexer": "ipython3",
   "version": "3.9.2"
  }
 },
 "nbformat": 4,
 "nbformat_minor": 5
}
